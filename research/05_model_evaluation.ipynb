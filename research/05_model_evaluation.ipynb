{
 "cells": [
  {
   "cell_type": "code",
   "execution_count": 1,
   "metadata": {},
   "outputs": [],
   "source": [
    "import os\n"
   ]
  },
  {
   "cell_type": "code",
   "execution_count": 2,
   "metadata": {},
   "outputs": [
    {
     "data": {
      "text/plain": [
       "'c:\\\\Users\\\\diban\\\\Documents\\\\End-end ML project with MLFlow\\\\End-end-Projects-with-MLFlow\\\\research'"
      ]
     },
     "execution_count": 2,
     "metadata": {},
     "output_type": "execute_result"
    }
   ],
   "source": [
    "%pwd"
   ]
  },
  {
   "cell_type": "code",
   "execution_count": 3,
   "metadata": {},
   "outputs": [],
   "source": [
    "os.chdir(\"../\")"
   ]
  },
  {
   "cell_type": "code",
   "execution_count": 4,
   "metadata": {},
   "outputs": [
    {
     "data": {
      "text/plain": [
       "'c:\\\\Users\\\\diban\\\\Documents\\\\End-end ML project with MLFlow\\\\End-end-Projects-with-MLFlow'"
      ]
     },
     "execution_count": 4,
     "metadata": {},
     "output_type": "execute_result"
    }
   ],
   "source": [
    "%pwd"
   ]
  },
  {
   "cell_type": "code",
   "execution_count": 5,
   "metadata": {},
   "outputs": [],
   "source": [
    "#Tracking Url for the project\n",
    "import dagshub\n",
    "dagshub.init(repo_owner='Dibanisaf', repo_name='End-end-Projects-with-MLFlow-Wine-Quality-', mlflow=True)\n",
    "\n",
    "import mlflow\n",
    "with mlflow.start_run():\n",
    "  mlflow.log_param('parameter name', 'value')\n",
    "  mlflow.log_metric('metric name', 1)"
   ]
  },
  {
   "cell_type": "code",
   "execution_count": 6,
   "metadata": {},
   "outputs": [],
   "source": [
    "import os\n",
    "os.environ['MLFOW_TRACKING_USERNAME']= 'Dibanisar'\n",
    "os.environ['MLFOW_TRACKING_PASSWORD']= '2b045b6956a9767ce2cd1165d59bf6e9c1fdb203'\n",
    "os.environ['MLFLOW_TRACKING_URL'] = 'https://dagshub.com/Dibanisaf/End-end-Projects-with-MLFlow-Wine-Quality-.mlflow'\n",
    "\n",
    "#mlflow.set_experiment(\"Wine-Quality\")\n"
   ]
  },
  {
   "cell_type": "code",
   "execution_count": 7,
   "metadata": {},
   "outputs": [],
   "source": [
    "from dataclasses import dataclass\n",
    "from pathlib import Path\n",
    "\n",
    "@dataclass(frozen= True)\n",
    "class ModelEvaluationConfig:\n",
    "    root_dir: Path\n",
    "    test_data_path: Path\n",
    "    model_path: Path\n",
    "    all_params: dict\n",
    "    metric_file_name: Path\n",
    "    target_column: str\n",
    "    mlflow_uri: str"
   ]
  },
  {
   "cell_type": "code",
   "execution_count": 8,
   "metadata": {},
   "outputs": [],
   "source": [
    "from src.ML_Project.constants import *\n",
    "from src.ML_Project.utils.common import read_yaml, create_directories,save_json\n"
   ]
  },
  {
   "cell_type": "code",
   "execution_count": 9,
   "metadata": {},
   "outputs": [],
   "source": [
    "class ConfigurationManager:\n",
    "    def __init__(self,\n",
    "                 config_filepath = CONFIG_FILE_PATH\n",
    "                     ,params_filepath = PARAMS_FILE_PATH\n",
    "                         ,schema_filepath = SCHEMA_FILE_PATH ):\n",
    "        \n",
    "        self.config = read_yaml(config_filepath)\n",
    "        self.params =read_yaml(params_filepath)\n",
    "        self.schema = read_yaml(schema_filepath)\n",
    "        \n",
    "        create_directories([self.config.artifacts_root]) #creating the artifact_root path\n",
    "        \n",
    "        \n",
    "    def get_model_evaluation_config(self)->ModelEvaluationConfig:\n",
    "        config =self.config.model_evaluation\n",
    "        params = self.params.ElasticNet\n",
    "        schema = self.schema.TARGET_COLUMN\n",
    "        \n",
    "        create_directories([config.root_dir])\n",
    "        \n",
    "        \n",
    "        model_evaluation_config = ModelEvaluationConfig(\n",
    "                root_dir = config.root_dir,\n",
    "                test_data_path= config.test_data_path,\n",
    "                model_path= config.model_path,\n",
    "                all_params= params,\n",
    "                metric_file_name= config.metric_file_name,\n",
    "                target_column= schema.name,\n",
    "                mlflow_uri= 'https://dagshub.com/Dibanisaf/End-end-Projects-with-MLFlow-Wine-Quality-.mlflow'\n",
    "\n",
    "            \n",
    "        )\n",
    "        \n",
    "        return model_evaluation_config"
   ]
  },
  {
   "cell_type": "code",
   "execution_count": 10,
   "metadata": {},
   "outputs": [],
   "source": [
    "import os\n",
    "import pandas as pd\n",
    "from sklearn.metrics import mean_absolute_error,mean_squared_error,r2_score\n",
    "import mlflow\n",
    "from urllib.parse import urlparse\n",
    "import mlflow.sklearn\n",
    "import numpy as np\n",
    "import joblib"
   ]
  },
  {
   "cell_type": "code",
   "execution_count": 11,
   "metadata": {},
   "outputs": [],
   "source": [
    "class ModelEvaluation:\n",
    "    def __init__(self,config:ModelEvaluationConfig):\n",
    "        self.config = config\n",
    "        \n",
    "    def eval_metrics(self,actual,pred):\n",
    "        rsme = np.sqrt(mean_squared_error(actual,pred))\n",
    "        mae =mean_absolute_error(actual,pred)\n",
    "        r2 =r2_score(actual,pred)\n",
    "        \n",
    "        return rsme,mae,r2\n",
    "    def log_into_mlflow(self):\n",
    "        # Load the test data\n",
    "        test_data = pd.read_csv(self.config.test_data_path)\n",
    "\n",
    "        # Load the trained model\n",
    "        model = joblib.load(self.config.model_path)\n",
    "\n",
    "        # Split data into features (X) and target (y)\n",
    "        test_x = test_data.drop([self.config.target_column], axis=1)\n",
    "        test_y = test_data[[self.config.target_column]]\n",
    "\n",
    "        # Set the MLflow registry URI\n",
    "        mlflow.set_registry_uri(self.config.mlflow_uri)\n",
    "        tracking_url_type_store = urlparse(mlflow.get_tracking_uri()).scheme\n",
    "\n",
    "        # Start an MLflow run\n",
    "        with mlflow.start_run():\n",
    "            \n",
    "            # mlflow.log_param('parameter name', 'value')\n",
    "            # mlflow.log_metric('metric name', 1)\n",
    "            # Make predictions\n",
    "            predicted_qualities = model.predict(test_x)\n",
    "\n",
    "            # Evaluate metrics\n",
    "            (rmse, mae, r2) = self.eval_metrics(test_y, predicted_qualities)\n",
    "            \n",
    "            scores ={\"rmse\":rmse, \"mae\":mae, \"r2\":r2}\n",
    "            \n",
    "            save_json(path=Path(self.config.metric_file_name),data =scores)\n",
    "            \n",
    "            mlflow.log_params(self.config.all_params)\n",
    "\n",
    "            # Log metrics (not visible in the screenshot but likely part of the code)\n",
    "            mlflow.log_metric(\"rmse\", rmse)\n",
    "            mlflow.log_metric(\"mae\", mae)\n",
    "            mlflow.log_metric(\"r2\", r2)\n",
    "            \n",
    "            \n",
    "            if tracking_url_type_store != \"file\":\n",
    "                #Note to self (Refer this part to the documentation it depends on the use case)!!!!!!!!!!!!!\n",
    "                \n",
    "                mlflow.sklearn.log_model(model,\"model\",registered_model_name= \"ElasticnetModel\")\n",
    "                \n",
    "            else:\n",
    "                mlflow.sklearn.log_model(model,\"model\")\n",
    "                \n",
    "            "
   ]
  },
  {
   "cell_type": "code",
   "execution_count": 12,
   "metadata": {},
   "outputs": [
    {
     "name": "stdout",
     "output_type": "stream",
     "text": [
      "[2025-01-29 11:13:31,250:INFO:yaml file :config\\config.yaml loaded successfully]\n",
      "[2025-01-29 11:13:31,267:INFO:yaml file :params.yaml loaded successfully]\n",
      "[2025-01-29 11:13:31,268:INFO:yaml file :schema.yaml loaded successfully]\n",
      "[2025-01-29 11:13:31,273:INFO:created directory at: artifacts]\n",
      "[2025-01-29 11:13:31,275:INFO:created directory at: artifacts/model_evaluation]\n",
      "[2025-01-29 11:13:31,693:INFO:json file saved at :artifacts\\model_evaluation\\metrics.json]\n"
     ]
    },
    {
     "name": "stderr",
     "output_type": "stream",
     "text": [
      "2025/01/29 11:13:41 WARNING mlflow.models.model: Model logged without a signature and input example. Please set `input_example` parameter when logging the model to auto infer the model signature.\n"
     ]
    }
   ],
   "source": [
    "try:\n",
    "    config =ConfigurationManager()\n",
    "    model_evaluation_config =config.get_model_evaluation_config()\n",
    "    model_evaluation_config = ModelEvaluation(config= model_evaluation_config)\n",
    "    model_evaluation_config.log_into_mlflow()\n",
    "    \n",
    "except Exception as e:\n",
    "    raise e\n"
   ]
  },
  {
   "cell_type": "code",
   "execution_count": null,
   "metadata": {},
   "outputs": [],
   "source": []
  }
 ],
 "metadata": {
  "kernelspec": {
   "display_name": ".venv",
   "language": "python",
   "name": "python3"
  },
  "language_info": {
   "codemirror_mode": {
    "name": "ipython",
    "version": 3
   },
   "file_extension": ".py",
   "mimetype": "text/x-python",
   "name": "python",
   "nbconvert_exporter": "python",
   "pygments_lexer": "ipython3",
   "version": "3.12.3"
  }
 },
 "nbformat": 4,
 "nbformat_minor": 2
}
