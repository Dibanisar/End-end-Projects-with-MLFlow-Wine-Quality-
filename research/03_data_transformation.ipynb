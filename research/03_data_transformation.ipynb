{
 "cells": [
  {
   "cell_type": "code",
   "execution_count": 1,
   "metadata": {},
   "outputs": [],
   "source": [
    "import os"
   ]
  },
  {
   "cell_type": "code",
   "execution_count": 2,
   "metadata": {},
   "outputs": [
    {
     "data": {
      "text/plain": [
       "'c:\\\\Users\\\\diban\\\\Documents\\\\End-end ML project with MLFlow\\\\End-end-Projects-with-MLFlow\\\\research'"
      ]
     },
     "execution_count": 2,
     "metadata": {},
     "output_type": "execute_result"
    }
   ],
   "source": [
    "%pwd"
   ]
  },
  {
   "cell_type": "code",
   "execution_count": 3,
   "metadata": {},
   "outputs": [],
   "source": [
    "os.chdir(\"../\")"
   ]
  },
  {
   "cell_type": "code",
   "execution_count": 4,
   "metadata": {},
   "outputs": [
    {
     "data": {
      "text/plain": [
       "'c:\\\\Users\\\\diban\\\\Documents\\\\End-end ML project with MLFlow\\\\End-end-Projects-with-MLFlow'"
      ]
     },
     "execution_count": 4,
     "metadata": {},
     "output_type": "execute_result"
    }
   ],
   "source": [
    "%pwd"
   ]
  },
  {
   "cell_type": "code",
   "execution_count": 5,
   "metadata": {},
   "outputs": [],
   "source": [
    "from dataclasses import dataclass\n",
    "from pathlib import Path\n",
    "\n",
    "@dataclass(frozen=True)\n",
    "class DataTransformationConfig:\n",
    "    root_dir: Path\n",
    "    data_path: Path"
   ]
  },
  {
   "cell_type": "code",
   "execution_count": 6,
   "metadata": {},
   "outputs": [],
   "source": [
    "from src.ML_Project.constants import *\n",
    "from src.ML_Project.utils.common import read_yaml, create_directories\n"
   ]
  },
  {
   "cell_type": "code",
   "execution_count": 7,
   "metadata": {},
   "outputs": [],
   "source": [
    "class ConfigurationManager:\n",
    "    def __init__(self,\n",
    "                 config_filepath = CONFIG_FILE_PATH\n",
    "                     ,params_filepath = PARAMS_FILE_PATH\n",
    "                         ,schema_filepath = SCHEMA_FILE_PATH ):\n",
    "        \n",
    "        self.config = read_yaml(config_filepath)\n",
    "        self.params =read_yaml(params_filepath)\n",
    "        self.schema = read_yaml(schema_filepath)\n",
    "        \n",
    "        create_directories([self.config.artifacts_root]) #creating the artifact_root path\n",
    "\n",
    "    def get_data_transformation_config(self) -> DataTransformationConfig:\n",
    "        config = self.config.data_transformation #this is reading the yaml file which points to config file and open the data_ingestion with conffig box\n",
    "\n",
    "        \n",
    "        create_directories([config.root_dir]) #using this function from common ro create dictionary accessed from the #self.config.data_ingestion above\n",
    "        \n",
    "        \n",
    "        data_transformation_config = DataTransformationConfig(\n",
    "                root_dir= config.root_dir,\n",
    "                data_path= config.data_path\n",
    "        )#loading the container\n",
    "\n",
    "        return data_transformation_config"
   ]
  },
  {
   "cell_type": "code",
   "execution_count": 8,
   "metadata": {},
   "outputs": [],
   "source": [
    "import os\n",
    "from src.ML_Project import Logger\n",
    "from sklearn.model_selection import train_test_split\n",
    "import pandas as pd"
   ]
  },
  {
   "cell_type": "code",
   "execution_count": 9,
   "metadata": {},
   "outputs": [],
   "source": [
    "#here if you have some catergorical data you can apply encoding techniques\n",
    "#handly all the EDA and missing values\n",
    "\n",
    "class DataTranformation:\n",
    "    def __init__(self,config: DataTransformationConfig):\n",
    "        self.config = config\n",
    "        \n",
    "        \n",
    "    def train_test_splitting(self):\n",
    "        data =pd.read_csv(self.config.data_path)\n",
    "        \n",
    "        #splitting the data into training and test sets.\n",
    "        train, test = train_test_split(data)\n",
    "        \n",
    "        train.to_csv(os.path.join(self.config.root_dir, \"train.csv\"),index = False)\n",
    "        test.to_csv(os.path.join(self.config.root_dir, \"test.csv\"),index = False)\n",
    "        \n",
    "        Logger.info(\"Splitted data into Training and Testing\")\n",
    "        Logger.info(train.shape)\n",
    "        Logger.info(test.shape)\n",
    "        \n",
    "        print(train.shape)\n",
    "        print(test.shape)\n",
    "        "
   ]
  },
  {
   "cell_type": "code",
   "execution_count": 10,
   "metadata": {},
   "outputs": [
    {
     "name": "stdout",
     "output_type": "stream",
     "text": [
      "[2025-01-20 11:46:01,113:INFO:yaml file :config\\config.yaml loaded successfully]\n",
      "[2025-01-20 11:46:01,114:INFO:yaml file :params.yaml loaded successfully]\n",
      "[2025-01-20 11:46:01,117:INFO:yaml file :schema.yaml loaded successfully]\n",
      "[2025-01-20 11:46:01,118:INFO:created directory at: artifacts]\n",
      "[2025-01-20 11:46:01,120:INFO:created directory at: artifacts/data_transformation]\n",
      "[2025-01-20 11:46:01,144:INFO:Splitted data into Training and Testing]\n",
      "[2025-01-20 11:46:01,145:INFO:(1199, 12)]\n",
      "[2025-01-20 11:46:01,146:INFO:(400, 12)]\n",
      "(1199, 12)\n",
      "(400, 12)\n"
     ]
    }
   ],
   "source": [
    "try:\n",
    "    config = ConfigurationManager()\n",
    "    data_transformation_config =config.get_data_transformation_config()\n",
    "    data_transformation = DataTranformation(config = data_transformation_config)\n",
    "    data_transformation.train_test_splitting()\n",
    "    \n",
    "except Exception as e:\n",
    "    raise e"
   ]
  },
  {
   "cell_type": "code",
   "execution_count": null,
   "metadata": {},
   "outputs": [],
   "source": []
  }
 ],
 "metadata": {
  "kernelspec": {
   "display_name": "Python (.venv)",
   "language": "python",
   "name": ".venv"
  },
  "language_info": {
   "codemirror_mode": {
    "name": "ipython",
    "version": 3
   },
   "file_extension": ".py",
   "mimetype": "text/x-python",
   "name": "python",
   "nbconvert_exporter": "python",
   "pygments_lexer": "ipython3",
   "version": "3.12.3"
  }
 },
 "nbformat": 4,
 "nbformat_minor": 2
}
